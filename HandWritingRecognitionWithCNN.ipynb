{
 "cells": [
  {
   "cell_type": "code",
   "execution_count": 1,
   "id": "ab81cd2a",
   "metadata": {},
   "outputs": [],
   "source": [
    "import numpy as np\n",
    "import cv2\n",
    "import matplotlib.pyplot as plt\n",
    "import tensorflow as tf\n",
    "from tensorflow.keras.layers import Flatten\n",
    "from tensorflow.keras.layers import InputLayer\n",
    "from tensorflow.keras.layers import Dense\n",
    "from tensorflow.keras.layers import Conv2D\n",
    "from tensorflow.keras.layers import ReLU\n",
    "from tensorflow.keras.layers import MaxPooling2D\n",
    "from tensorflow.keras.layers import Flatten\n",
    "from tensorflow.nest import flatten\n",
    "from keras import metrics\n",
    "from keras import losses\n",
    "from keras import optimizers"
   ]
  },
  {
   "cell_type": "code",
   "execution_count": 2,
   "id": "1a431dd9",
   "metadata": {},
   "outputs": [],
   "source": [
    "mnist = tf.keras.datasets.mnist\n",
    "(x_train, y_train), (x_test, y_test) = mnist.load_data()"
   ]
  },
  {
   "cell_type": "code",
   "execution_count": 3,
   "id": "142c7663",
   "metadata": {},
   "outputs": [],
   "source": [
    "x_train,x_test=x_train/255.0,x_test/255.0"
   ]
  },
  {
   "cell_type": "code",
   "execution_count": 4,
   "id": "9f036730",
   "metadata": {},
   "outputs": [],
   "source": [
    "y_train=tf.one_hot(y_train,10)"
   ]
  },
  {
   "cell_type": "code",
   "execution_count": 5,
   "id": "f35ea84d",
   "metadata": {},
   "outputs": [],
   "source": [
    "y_test=tf.one_hot(y_test,10)"
   ]
  },
  {
   "cell_type": "code",
   "execution_count": 6,
   "id": "a49b1d42",
   "metadata": {},
   "outputs": [
    {
     "data": {
      "image/png": "[encoded data removed]",
      "text/plain": [
       "<Figure size 432x288 with 10 Axes>"
      ]
     },
     "metadata": {
      "needs_background": "light"
     },
     "output_type": "display_data"
    }
   ],
   "source": [
    "for i in range(10):\n",
    "    plt.subplot(5,2,i+1)\n",
    "#     print(y_train[i])\n",
    "    plt.imshow(x_train[i])\n",
    "plt.show()"
   ]
  },
  {
   "cell_type": "code",
   "execution_count": 7,
   "id": "13218b0f",
   "metadata": {},
   "outputs": [
    {
     "data": {
      "text/plain": [
       "(60000, 28, 28)"
      ]
     },
     "execution_count": 7,
     "metadata": {},
     "output_type": "execute_result"
    }
   ],
   "source": [
    "x_train.shape"
   ]
  },
  {
   "cell_type": "code",
   "execution_count": 8,
   "id": "3f39288b",
   "metadata": {},
   "outputs": [
    {
     "data": {
      "text/plain": [
       "(10000, 28, 28)"
      ]
     },
     "execution_count": 8,
     "metadata": {},
     "output_type": "execute_result"
    }
   ],
   "source": [
    "x_test.shape"
   ]
  },
  {
   "cell_type": "code",
   "execution_count": 9,
   "id": "80e8d9f0",
   "metadata": {},
   "outputs": [
    {
     "data": {
      "text/plain": [
       "TensorShape([60000, 10])"
      ]
     },
     "execution_count": 9,
     "metadata": {},
     "output_type": "execute_result"
    }
   ],
   "source": [
    "y_train.shape"
   ]
  },
  {
   "cell_type": "code",
   "execution_count": 10,
   "id": "24e5974c",
   "metadata": {},
   "outputs": [
    {
     "data": {
      "text/plain": [
       "TensorShape([10000, 10])"
      ]
     },
     "execution_count": 10,
     "metadata": {},
     "output_type": "execute_result"
    }
   ],
   "source": [
    "y_test.shape"
   ]
  },
  {
   "cell_type": "code",
   "execution_count": 11,
   "id": "40bb34a7",
   "metadata": {},
   "outputs": [],
   "source": [
    "test_img=x_test[0]"
   ]
  },
  {
   "cell_type": "code",
   "execution_count": 12,
   "id": "35bade66",
   "metadata": {},
   "outputs": [
    {
     "data": {
      "text/plain": [
       "array([[0.        , 0.        , 0.        , 0.        , 0.        ,\n",
       "        0.        , 0.        , 0.        , 0.        , 0.        ,\n",
       "        0.        , 0.        , 0.        , 0.        , 0.        ,\n",
       "        0.        , 0.        , 0.        , 0.        , 0.        ,\n",
       "        0.        , 0.        , 0.        , 0.        , 0.        ,\n",
       "        0.        , 0.        , 0.        ],\n",
       "       [0.        , 0.        , 0.        , 0.        , 0.        ,\n",
       "        0.        , 0.        , 0.        , 0.        , 0.        ,\n",
       "        0.        , 0.        , 0.        , 0.        , 0.        ,\n",
       "        0.        , 0.        , 0.        , 0.        , 0.        ,\n",
       "        0.        , 0.        , 0.        , 0.        , 0.        ,\n",
       "        0.        , 0.        , 0.        ],\n",
       "       [0.        , 0.        , 0.        , 0.        , 0.        ,\n",
       "        0.        , 0.        , 0.        , 0.        , 0.        ,\n",
       "        0.        , 0.        , 0.        , 0.        , 0.        ,\n",
       "        0.        , 0.        , 0.        , 0.        , 0.        ,\n",
       "        0.        , 0.        , 0.        , 0.        , 0.        ,\n",
       "        0.        , 0.        , 0.        ],\n",
       "       [0.        , 0.        , 0.        , 0.        , 0.        ,\n",
       "        0.        , 0.        , 0.        , 0.        , 0.        ,\n",
       "        0.        , 0.        , 0.        , 0.        , 0.        ,\n",
       "        0.        , 0.        , 0.        , 0.        , 0.        ,\n",
       "        0.        , 0.        , 0.        , 0.        , 0.        ,\n",
       "        0.        , 0.        , 0.        ],\n",
       "       [0.        , 0.        , 0.        , 0.        , 0.        ,\n",
       "        0.        , 0.        , 0.        , 0.        , 0.        ,\n",
       "        0.        , 0.        , 0.        , 0.        , 0.        ,\n",
       "        0.        , 0.        , 0.        , 0.        , 0.        ,\n",
       "        0.        , 0.        , 0.        , 0.        , 0.        ,\n",
       "        0.        , 0.        , 0.        ],\n",
       "       [0.        , 0.        , 0.        , 0.        , 0.        ,\n",
       "        0.        , 0.        , 0.        , 0.        , 0.        ,\n",
       "        0.        , 0.        , 0.        , 0.        , 0.        ,\n",
       "        0.        , 0.        , 0.        , 0.        , 0.        ,\n",
       "        0.        , 0.        , 0.        , 0.        , 0.        ,\n",
       "        0.        , 0.        , 0.        ],\n",
       "       [0.        , 0.        , 0.        , 0.        , 0.        ,\n",
       "        0.        , 0.        , 0.        , 0.        , 0.        ,\n",
       "        0.        , 0.        , 0.        , 0.        , 0.        ,\n",
       "        0.        , 0.        , 0.        , 0.        , 0.        ,\n",
       "        0.        , 0.        , 0.        , 0.        , 0.        ,\n",
       "        0.        , 0.        , 0.        ],\n",
       "       [0.        , 0.        , 0.        , 0.        , 0.        ,\n",
       "        0.        , 0.32941176, 0.7254902 , 0.62352941, 0.59215686,\n",
       "        0.23529412, 0.14117647, 0.        , 0.        , 0.        ,\n",
       "        0.        , 0.        , 0.        , 0.        , 0.        ,\n",
       "        0.        , 0.        , 0.        , 0.        , 0.        ,\n",
       "        0.        , 0.        , 0.        ],\n",
       "       [0.        , 0.        , 0.        , 0.        , 0.        ,\n",
       "        0.        , 0.87058824, 0.99607843, 0.99607843, 0.99607843,\n",
       "        0.99607843, 0.94509804, 0.77647059, 0.77647059, 0.77647059,\n",
       "        0.77647059, 0.77647059, 0.77647059, 0.77647059, 0.77647059,\n",
       "        0.66666667, 0.20392157, 0.        , 0.        , 0.        ,\n",
       "        0.        , 0.        , 0.        ],\n",
       "       [0.        , 0.        , 0.        , 0.        , 0.        ,\n",
       "        0.        , 0.2627451 , 0.44705882, 0.28235294, 0.44705882,\n",
       "        0.63921569, 0.89019608, 0.99607843, 0.88235294, 0.99607843,\n",
       "        0.99607843, 0.99607843, 0.98039216, 0.89803922, 0.99607843,\n",
       "        0.99607843, 0.54901961, 0.        , 0.        , 0.        ,\n",
       "        0.        , 0.        , 0.        ],\n",
       "       [0.        , 0.        , 0.        , 0.        , 0.        ,\n",
       "        0.        , 0.        , 0.        , 0.        , 0.        ,\n",
       "        0.        , 0.06666667, 0.25882353, 0.05490196, 0.2627451 ,\n",
       "        0.2627451 , 0.2627451 , 0.23137255, 0.08235294, 0.9254902 ,\n",
       "        0.99607843, 0.41568627, 0.        , 0.        , 0.        ,\n",
       "        0.        , 0.        , 0.        ],\n",
       "       [0.        , 0.        , 0.        , 0.        , 0.        ,\n",
       "        0.        , 0.        , 0.        , 0.        , 0.        ,\n",
       "        0.        , 0.        , 0.        , 0.        , 0.        ,\n",
       "        0.        , 0.        , 0.        , 0.3254902 , 0.99215686,\n",
       "        0.81960784, 0.07058824, 0.        , 0.        , 0.        ,\n",
       "        0.        , 0.        , 0.        ],\n",
       "       [0.        , 0.        , 0.        , 0.        , 0.        ,\n",
       "        0.        , 0.        , 0.        , 0.        , 0.        ,\n",
       "        0.        , 0.        , 0.        , 0.        , 0.        ,\n",
       "        0.        , 0.        , 0.08627451, 0.91372549, 1.        ,\n",
       "        0.3254902 , 0.        , 0.        , 0.        , 0.        ,\n",
       "        0.        , 0.        , 0.        ],\n",
       "       [0.        , 0.        , 0.        , 0.        , 0.        ,\n",
       "        0.        , 0.        , 0.        , 0.        , 0.        ,\n",
       "        0.        , 0.        , 0.        , 0.        , 0.        ,\n",
       "        0.        , 0.        , 0.50588235, 0.99607843, 0.93333333,\n",
       "        0.17254902, 0.        , 0.        , 0.        , 0.        ,\n",
       "        0.        , 0.        , 0.        ],\n",
       "       [0.        , 0.        , 0.        , 0.        , 0.        ,\n",
       "        0.        , 0.        , 0.        , 0.        , 0.        ,\n",
       "        0.        , 0.        , 0.        , 0.        , 0.        ,\n",
       "        0.        , 0.23137255, 0.97647059, 0.99607843, 0.24313725,\n",
       "        0.        , 0.        , 0.        , 0.        , 0.        ,\n",
       "        0.        , 0.        , 0.        ],\n",
       "       [0.        , 0.        , 0.        , 0.        , 0.        ,\n",
       "        0.        , 0.        , 0.        , 0.        , 0.        ,\n",
       "        0.        , 0.        , 0.        , 0.        , 0.        ,\n",
       "        0.        , 0.52156863, 0.99607843, 0.73333333, 0.01960784,\n",
       "        0.        , 0.        , 0.        , 0.        , 0.        ,\n",
       "        0.        , 0.        , 0.        ],\n",
       "       [0.        , 0.        , 0.        , 0.        , 0.        ,\n",
       "        0.        , 0.        , 0.        , 0.        , 0.        ,\n",
       "        0.        , 0.        , 0.        , 0.        , 0.        ,\n",
       "        0.03529412, 0.80392157, 0.97254902, 0.22745098, 0.        ,\n",
       "        0.        , 0.        , 0.        , 0.        , 0.        ,\n",
       "        0.        , 0.        , 0.        ],\n",
       "       [0.        , 0.        , 0.        , 0.        , 0.        ,\n",
       "        0.        , 0.        , 0.        , 0.        , 0.        ,\n",
       "        0.        , 0.        , 0.        , 0.        , 0.        ,\n",
       "        0.49411765, 0.99607843, 0.71372549, 0.        , 0.        ,\n",
       "        0.        , 0.        , 0.        , 0.        , 0.        ,\n",
       "        0.        , 0.        , 0.        ],\n",
       "       [0.        , 0.        , 0.        , 0.        , 0.        ,\n",
       "        0.        , 0.        , 0.        , 0.        , 0.        ,\n",
       "        0.        , 0.        , 0.        , 0.        , 0.29411765,\n",
       "        0.98431373, 0.94117647, 0.22352941, 0.        , 0.        ,\n",
       "        0.        , 0.        , 0.        , 0.        , 0.        ,\n",
       "        0.        , 0.        , 0.        ],\n",
       "       [0.        , 0.        , 0.        , 0.        , 0.        ,\n",
       "        0.        , 0.        , 0.        , 0.        , 0.        ,\n",
       "        0.        , 0.        , 0.        , 0.0745098 , 0.86666667,\n",
       "        0.99607843, 0.65098039, 0.        , 0.        , 0.        ,\n",
       "        0.        , 0.        , 0.        , 0.        , 0.        ,\n",
       "        0.        , 0.        , 0.        ],\n",
       "       [0.        , 0.        , 0.        , 0.        , 0.        ,\n",
       "        0.        , 0.        , 0.        , 0.        , 0.        ,\n",
       "        0.        , 0.        , 0.01176471, 0.79607843, 0.99607843,\n",
       "        0.85882353, 0.1372549 , 0.        , 0.        , 0.        ,\n",
       "        0.        , 0.        , 0.        , 0.        , 0.        ,\n",
       "        0.        , 0.        , 0.        ],\n",
       "       [0.        , 0.        , 0.        , 0.        , 0.        ,\n",
       "        0.        , 0.        , 0.        , 0.        , 0.        ,\n",
       "        0.        , 0.        , 0.14901961, 0.99607843, 0.99607843,\n",
       "        0.30196078, 0.        , 0.        , 0.        , 0.        ,\n",
       "        0.        , 0.        , 0.        , 0.        , 0.        ,\n",
       "        0.        , 0.        , 0.        ],\n",
       "       [0.        , 0.        , 0.        , 0.        , 0.        ,\n",
       "        0.        , 0.        , 0.        , 0.        , 0.        ,\n",
       "        0.        , 0.12156863, 0.87843137, 0.99607843, 0.45098039,\n",
       "        0.00392157, 0.        , 0.        , 0.        , 0.        ,\n",
       "        0.        , 0.        , 0.        , 0.        , 0.        ,\n",
       "        0.        , 0.        , 0.        ],\n",
       "       [0.        , 0.        , 0.        , 0.        , 0.        ,\n",
       "        0.        , 0.        , 0.        , 0.        , 0.        ,\n",
       "        0.        , 0.52156863, 0.99607843, 0.99607843, 0.20392157,\n",
       "        0.        , 0.        , 0.        , 0.        , 0.        ,\n",
       "        0.        , 0.        , 0.        , 0.        , 0.        ,\n",
       "        0.        , 0.        , 0.        ],\n",
       "       [0.        , 0.        , 0.        , 0.        , 0.        ,\n",
       "        0.        , 0.        , 0.        , 0.        , 0.        ,\n",
       "        0.23921569, 0.94901961, 0.99607843, 0.99607843, 0.20392157,\n",
       "        0.        , 0.        , 0.        , 0.        , 0.        ,\n",
       "        0.        , 0.        , 0.        , 0.        , 0.        ,\n",
       "        0.        , 0.        , 0.        ],\n",
       "       [0.        , 0.        , 0.        , 0.        , 0.        ,\n",
       "        0.        , 0.        , 0.        , 0.        , 0.        ,\n",
       "        0.4745098 , 0.99607843, 0.99607843, 0.85882353, 0.15686275,\n",
       "        0.        , 0.        , 0.        , 0.        , 0.        ,\n",
       "        0.        , 0.        , 0.        , 0.        , 0.        ,\n",
       "        0.        , 0.        , 0.        ],\n",
       "       [0.        , 0.        , 0.        , 0.        , 0.        ,\n",
       "        0.        , 0.        , 0.        , 0.        , 0.        ,\n",
       "        0.4745098 , 0.99607843, 0.81176471, 0.07058824, 0.        ,\n",
       "        0.        , 0.        , 0.        , 0.        , 0.        ,\n",
       "        0.        , 0.        , 0.        , 0.        , 0.        ,\n",
       "        0.        , 0.        , 0.        ],\n",
       "       [0.        , 0.        , 0.        , 0.        , 0.        ,\n",
       "        0.        , 0.        , 0.        , 0.        , 0.        ,\n",
       "        0.        , 0.        , 0.        , 0.        , 0.        ,\n",
       "        0.        , 0.        , 0.        , 0.        , 0.        ,\n",
       "        0.        , 0.        , 0.        , 0.        , 0.        ,\n",
       "        0.        , 0.        , 0.        ]])"
      ]
     },
     "execution_count": 12,
     "metadata": {},
     "output_type": "execute_result"
    }
   ],
   "source": [
    "test_img"
   ]
  },
  {
   "cell_type": "code",
   "execution_count": 13,
   "id": "d467acc9",
   "metadata": {},
   "outputs": [],
   "source": [
    "# Let's build a convolutional neural network with input layer having nodes 784 and output layer having 10 nodes. "
   ]
  },
  {
   "cell_type": "code",
   "execution_count": 14,
   "id": "21f533eb",
   "metadata": {},
   "outputs": [],
   "source": [
    "callback=tf.keras.callbacks.EarlyStopping?"
   ]
  },
  {
   "cell_type": "code",
   "execution_count": 15,
   "id": "ffa96dbb",
   "metadata": {
    "scrolled": true
   },
   "outputs": [
    {
     "name": "stdout",
     "output_type": "stream",
     "text": [
      "Model: \"sequential\"\n",
      "_________________________________________________________________\n",
      " Layer (type)                Output Shape              Param #   \n",
      "=================================================================\n",
      " ConvLayer1 (Conv2D)         (None, 28, 28, 32)        832       \n",
      "                                                                 \n",
      " ReLU1 (ReLU)                (None, 28, 28, 32)        0         \n",
      "                                                                 \n",
      " MaxPool1 (MaxPooling2D)     (None, 14, 14, 32)        0         \n",
      "                                                                 \n",
      " ConvLayer2 (Conv2D)         (None, 14, 14, 64)        51264     \n",
      "                                                                 \n",
      " ReLU2 (ReLU)                (None, 14, 14, 64)        0         \n",
      "                                                                 \n",
      " MaxPool2 (MaxPooling2D)     (None, 7, 7, 64)          0         \n",
      "                                                                 \n",
      " FlattenLayer (Flatten)      (None, 3136)              0         \n",
      "                                                                 \n",
      " ReLU3 (ReLU)                (None, 3136)              0         \n",
      "                                                                 \n",
      " OutputLayer (Dense)         (None, 10)                31370     \n",
      "                                                                 \n",
      "=================================================================\n",
      "Total params: 83,466\n",
      "Trainable params: 83,466\n",
      "Non-trainable params: 0\n",
      "_________________________________________________________________\n"
     ]
    }
   ],
   "source": [
    "model=tf.keras.Sequential()\n",
    "model.add(InputLayer(input_shape=(28,28,1),name='InputLayer'))\n",
    "model.add(Conv2D(filters=32,kernel_size=(5,5),padding='same',name='ConvLayer1'))     #output = (28,28,32)\n",
    "model.add(ReLU(name='ReLU1'))\n",
    "model.add(MaxPooling2D(pool_size=(2,2),strides=(2,2),padding='same',name='MaxPool1'))   #output - (14,14,32)\n",
    "model.add(Conv2D(filters=64,kernel_size=(5,5),padding='same',name='ConvLayer2'))     #output - (14,14,64)\n",
    "model.add(ReLU(name='ReLU2'))\n",
    "model.add(MaxPooling2D(pool_size=(2,2),strides=(2,2),padding='same',name='MaxPool2'))   #output - (7,7,64)\n",
    "model.add(Flatten(name='FlattenLayer'))                                                 #output - (1,3136)\n",
    "model.add(ReLU(name='ReLU3'))\n",
    "model.add(Dense(10,activation='softmax',name='OutputLayer'))\n",
    "model.summary()"
   ]
  },
  {
   "cell_type": "code",
   "execution_count": 16,
   "id": "7ffa466d",
   "metadata": {},
   "outputs": [],
   "source": [
    "model.compile(optimizer='adam',loss='CategoricalCrossentropy',metrics=['accuracy'])"
   ]
  },
  {
   "cell_type": "code",
   "execution_count": 17,
   "id": "2fc304e9",
   "metadata": {},
   "outputs": [],
   "source": [
    "from keras.callbacks import EarlyStopping,ModelCheckpoint\n",
    "es=EarlyStopping(monitor='val_acc',min_delta=0.01,patience=2,verbose=1)\n",
    "mc=ModelCheckpoint('D:\\\\Machine Learning Projects\\\\Handwritten Digit Recognition With CNN\\bestmodel.h5',monitor='val_acc',save_best_only=True)\n",
    "cb=[es,mc]"
   ]
  },
  {
   "cell_type": "code",
   "execution_count": 18,
   "id": "e6728324",
   "metadata": {},
   "outputs": [
    {
     "name": "stdout",
     "output_type": "stream",
     "text": [
      "Epoch 1/50\n",
      "657/657 [==============================] - 33s 49ms/step - loss: 0.1974 - accuracy: 0.9416 - val_loss: 0.0738 - val_accuracy: 0.9768\n",
      "Epoch 2/50\n",
      "657/657 [==============================] - 31s 47ms/step - loss: 0.0563 - accuracy: 0.9824 - val_loss: 0.0565 - val_accuracy: 0.9838\n",
      "Epoch 3/50\n",
      "657/657 [==============================] - 32s 48ms/step - loss: 0.0387 - accuracy: 0.9875 - val_loss: 0.0486 - val_accuracy: 0.9857\n",
      "Epoch 4/50\n",
      "657/657 [==============================] - 31s 47ms/step - loss: 0.0294 - accuracy: 0.9905 - val_loss: 0.0445 - val_accuracy: 0.9877\n",
      "Epoch 5/50\n",
      "657/657 [==============================] - 33s 51ms/step - loss: 0.0242 - accuracy: 0.9923 - val_loss: 0.0421 - val_accuracy: 0.9882\n",
      "Epoch 6/50\n",
      "657/657 [==============================] - 33s 50ms/step - loss: 0.0181 - accuracy: 0.9940 - val_loss: 0.0456 - val_accuracy: 0.9875\n",
      "Epoch 7/50\n",
      "657/657 [==============================] - 35s 53ms/step - loss: 0.0154 - accuracy: 0.9948 - val_loss: 0.0581 - val_accuracy: 0.9847\n",
      "Epoch 8/50\n",
      "657/657 [==============================] - 34s 52ms/step - loss: 0.0124 - accuracy: 0.9961 - val_loss: 0.0423 - val_accuracy: 0.9887\n",
      "Epoch 9/50\n",
      "657/657 [==============================] - 34s 51ms/step - loss: 0.0100 - accuracy: 0.9968 - val_loss: 0.0418 - val_accuracy: 0.9890\n",
      "Epoch 10/50\n",
      "657/657 [==============================] - 31s 48ms/step - loss: 0.0073 - accuracy: 0.9975 - val_loss: 0.0477 - val_accuracy: 0.9876\n",
      "Epoch 11/50\n",
      "657/657 [==============================] - 31s 47ms/step - loss: 0.0099 - accuracy: 0.9966 - val_loss: 0.0556 - val_accuracy: 0.9879\n",
      "Epoch 12/50\n",
      "657/657 [==============================] - 31s 47ms/step - loss: 0.0050 - accuracy: 0.9985 - val_loss: 0.0576 - val_accuracy: 0.9886\n",
      "Epoch 13/50\n",
      "657/657 [==============================] - 31s 47ms/step - loss: 0.0054 - accuracy: 0.9984 - val_loss: 0.0557 - val_accuracy: 0.9895\n",
      "Epoch 14/50\n",
      "657/657 [==============================] - 31s 48ms/step - loss: 0.0053 - accuracy: 0.9983 - val_loss: 0.0620 - val_accuracy: 0.9868\n",
      "Epoch 15/50\n",
      "657/657 [==============================] - 32s 49ms/step - loss: 0.0062 - accuracy: 0.9977 - val_loss: 0.0556 - val_accuracy: 0.9879\n",
      "Epoch 16/50\n",
      "657/657 [==============================] - 32s 49ms/step - loss: 0.0035 - accuracy: 0.9987 - val_loss: 0.0545 - val_accuracy: 0.9893\n",
      "Epoch 17/50\n",
      "657/657 [==============================] - 32s 48ms/step - loss: 0.0043 - accuracy: 0.9986 - val_loss: 0.0615 - val_accuracy: 0.9884\n",
      "Epoch 18/50\n",
      "657/657 [==============================] - 31s 48ms/step - loss: 0.0038 - accuracy: 0.9988 - val_loss: 0.0593 - val_accuracy: 0.9898\n",
      "Epoch 19/50\n",
      "657/657 [==============================] - 31s 48ms/step - loss: 0.0034 - accuracy: 0.9988 - val_loss: 0.0621 - val_accuracy: 0.9893\n",
      "Epoch 20/50\n",
      "657/657 [==============================] - 31s 48ms/step - loss: 0.0037 - accuracy: 0.9988 - val_loss: 0.0727 - val_accuracy: 0.9877\n",
      "Epoch 21/50\n",
      "657/657 [==============================] - 31s 48ms/step - loss: 0.0049 - accuracy: 0.9985 - val_loss: 0.0540 - val_accuracy: 0.9912\n",
      "Epoch 22/50\n",
      "657/657 [==============================] - 31s 48ms/step - loss: 5.3923e-04 - accuracy: 0.9999 - val_loss: 0.0615 - val_accuracy: 0.9900\n",
      "Epoch 23/50\n",
      "657/657 [==============================] - 31s 47ms/step - loss: 0.0044 - accuracy: 0.9986 - val_loss: 0.0616 - val_accuracy: 0.9894\n",
      "Epoch 24/50\n",
      "657/657 [==============================] - 31s 48ms/step - loss: 0.0016 - accuracy: 0.9995 - val_loss: 0.0672 - val_accuracy: 0.9899\n",
      "Epoch 25/50\n",
      "657/657 [==============================] - 32s 48ms/step - loss: 0.0047 - accuracy: 0.9986 - val_loss: 0.0625 - val_accuracy: 0.9882\n",
      "Epoch 26/50\n",
      "657/657 [==============================] - 31s 48ms/step - loss: 0.0034 - accuracy: 0.9987 - val_loss: 0.0612 - val_accuracy: 0.9904\n",
      "Epoch 27/50\n",
      "657/657 [==============================] - 31s 47ms/step - loss: 3.4366e-04 - accuracy: 1.0000 - val_loss: 0.0632 - val_accuracy: 0.9906\n",
      "Epoch 28/50\n",
      "657/657 [==============================] - 32s 48ms/step - loss: 2.7812e-05 - accuracy: 1.0000 - val_loss: 0.0630 - val_accuracy: 0.9912\n",
      "Epoch 29/50\n",
      "657/657 [==============================] - 31s 48ms/step - loss: 1.3021e-05 - accuracy: 1.0000 - val_loss: 0.0641 - val_accuracy: 0.9913\n",
      "Epoch 30/50\n",
      "657/657 [==============================] - 31s 48ms/step - loss: 9.3672e-06 - accuracy: 1.0000 - val_loss: 0.0653 - val_accuracy: 0.9911\n",
      "Epoch 31/50\n",
      "657/657 [==============================] - 31s 48ms/step - loss: 6.8969e-06 - accuracy: 1.0000 - val_loss: 0.0667 - val_accuracy: 0.9912\n",
      "Epoch 32/50\n",
      "657/657 [==============================] - 32s 48ms/step - loss: 5.1383e-06 - accuracy: 1.0000 - val_loss: 0.0677 - val_accuracy: 0.9913\n",
      "Epoch 33/50\n",
      "657/657 [==============================] - 31s 48ms/step - loss: 3.7595e-06 - accuracy: 1.0000 - val_loss: 0.0691 - val_accuracy: 0.9913\n",
      "Epoch 34/50\n",
      "657/657 [==============================] - 32s 48ms/step - loss: 2.8629e-06 - accuracy: 1.0000 - val_loss: 0.0705 - val_accuracy: 0.9913\n",
      "Epoch 35/50\n",
      "657/657 [==============================] - 31s 48ms/step - loss: 2.1917e-06 - accuracy: 1.0000 - val_loss: 0.0718 - val_accuracy: 0.9913\n",
      "Epoch 36/50\n",
      "657/657 [==============================] - 31s 48ms/step - loss: 1.6026e-06 - accuracy: 1.0000 - val_loss: 0.0731 - val_accuracy: 0.9913\n",
      "Epoch 37/50\n",
      "657/657 [==============================] - 31s 48ms/step - loss: 1.1839e-06 - accuracy: 1.0000 - val_loss: 0.0747 - val_accuracy: 0.9912\n",
      "Epoch 38/50\n",
      "657/657 [==============================] - 32s 49ms/step - loss: 8.8417e-07 - accuracy: 1.0000 - val_loss: 0.0765 - val_accuracy: 0.9912\n",
      "Epoch 39/50\n",
      "657/657 [==============================] - 31s 47ms/step - loss: 6.5153e-07 - accuracy: 1.0000 - val_loss: 0.0778 - val_accuracy: 0.9912\n",
      "Epoch 40/50\n",
      "657/657 [==============================] - 31s 48ms/step - loss: 4.8004e-07 - accuracy: 1.0000 - val_loss: 0.0795 - val_accuracy: 0.9912\n",
      "Epoch 41/50\n",
      "657/657 [==============================] - 31s 47ms/step - loss: 3.5323e-07 - accuracy: 1.0000 - val_loss: 0.0811 - val_accuracy: 0.9911\n",
      "Epoch 42/50\n",
      "657/657 [==============================] - 31s 47ms/step - loss: 2.5956e-07 - accuracy: 1.0000 - val_loss: 0.0826 - val_accuracy: 0.9913\n",
      "Epoch 43/50\n",
      "657/657 [==============================] - 32s 49ms/step - loss: 1.8450e-07 - accuracy: 1.0000 - val_loss: 0.0850 - val_accuracy: 0.9911\n",
      "Epoch 44/50\n",
      "657/657 [==============================] - 32s 49ms/step - loss: 1.3640e-07 - accuracy: 1.0000 - val_loss: 0.0861 - val_accuracy: 0.9912\n",
      "Epoch 45/50\n",
      "657/657 [==============================] - 31s 47ms/step - loss: 9.7371e-08 - accuracy: 1.0000 - val_loss: 0.0880 - val_accuracy: 0.9913\n",
      "Epoch 46/50\n",
      "657/657 [==============================] - 31s 47ms/step - loss: 7.0555e-08 - accuracy: 1.0000 - val_loss: 0.0902 - val_accuracy: 0.9910\n",
      "Epoch 47/50\n",
      "657/657 [==============================] - 32s 48ms/step - loss: 4.9554e-08 - accuracy: 1.0000 - val_loss: 0.0916 - val_accuracy: 0.9913\n",
      "Epoch 48/50\n",
      "657/657 [==============================] - 31s 48ms/step - loss: 0.0082 - accuracy: 0.9986 - val_loss: 0.1226 - val_accuracy: 0.9821\n",
      "Epoch 49/50\n",
      "657/657 [==============================] - 31s 48ms/step - loss: 0.0074 - accuracy: 0.9973 - val_loss: 0.0676 - val_accuracy: 0.9887\n",
      "Epoch 50/50\n",
      "657/657 [==============================] - 33s 50ms/step - loss: 0.0018 - accuracy: 0.9994 - val_loss: 0.0764 - val_accuracy: 0.9893\n"
     ]
    }
   ],
   "source": [
    "history=model.fit(x_train,y_train,batch_size=64,epochs=50,validation_split=0.3)"
   ]
  },
  {
   "cell_type": "code",
   "execution_count": 19,
   "id": "6bcc5a9c",
   "metadata": {},
   "outputs": [],
   "source": [
    "# history?"
   ]
  },
  {
   "cell_type": "code",
   "execution_count": 20,
   "id": "4feb1951",
   "metadata": {},
   "outputs": [
    {
     "name": "stdout",
     "output_type": "stream",
     "text": [
      "313/313 [==============================] - 5s 17ms/step - loss: 0.0526 - accuracy: 0.9911\n"
     ]
    },
    {
     "data": {
      "text/plain": [
       "[0.05260901525616646, 0.991100013256073]"
      ]
     },
     "execution_count": 20,
     "metadata": {},
     "output_type": "execute_result"
    }
   ],
   "source": [
    "model.evaluate(x_test,y_test)"
   ]
  },
  {
   "cell_type": "code",
   "execution_count": 21,
   "id": "bd1cc7ef",
   "metadata": {},
   "outputs": [
    {
     "name": "stdout",
     "output_type": "stream",
     "text": [
      "1/1 [==============================] - 0s 130ms/step\n"
     ]
    }
   ],
   "source": [
    "y_pred=model.predict(x_test[:5])"
   ]
  },
  {
   "cell_type": "code",
   "execution_count": 22,
   "id": "5e243e07",
   "metadata": {},
   "outputs": [
    {
     "data": {
      "text/plain": [
       "array([[8.10323469e-28, 3.27413160e-33, 1.29956794e-22, 1.26831757e-20,\n",
       "        6.06142245e-38, 1.10298863e-28, 0.00000000e+00, 1.00000000e+00,\n",
       "        3.28839682e-28, 6.71905266e-19],\n",
       "       [1.43097522e-23, 1.73319566e-26, 1.00000000e+00, 3.44208566e-35,\n",
       "        4.92359482e-32, 0.00000000e+00, 1.26325656e-21, 2.72148725e-38,\n",
       "        5.00674717e-30, 2.01677535e-30],\n",
       "       [1.13873664e-18, 1.00000000e+00, 6.71093633e-14, 1.49670027e-23,\n",
       "        1.09852884e-10, 1.31786787e-17, 4.37011674e-13, 1.63631153e-12,\n",
       "        2.90746732e-10, 8.93942818e-15],\n",
       "       [1.00000000e+00, 2.57709860e-35, 1.10845718e-17, 1.67260947e-23,\n",
       "        8.58253646e-25, 5.43865760e-20, 1.77674065e-13, 5.74965386e-19,\n",
       "        5.58045944e-18, 7.26159216e-19],\n",
       "       [2.09417509e-28, 1.21390329e-28, 1.58844026e-24, 5.17591448e-38,\n",
       "        1.00000000e+00, 2.26817917e-30, 1.74726744e-28, 2.23686989e-28,\n",
       "        1.31442036e-22, 2.21329961e-20]], dtype=float32)"
      ]
     },
     "execution_count": 22,
     "metadata": {},
     "output_type": "execute_result"
    }
   ],
   "source": [
    "y_pred"
   ]
  },
  {
   "cell_type": "code",
   "execution_count": 23,
   "id": "6a6cf8d4",
   "metadata": {},
   "outputs": [
    {
     "name": "stdout",
     "output_type": "stream",
     "text": [
      "7\n",
      "2\n",
      "1\n",
      "0\n",
      "4\n"
     ]
    }
   ],
   "source": [
    "for i in range(len(y_pred)):\n",
    "    idx=np.argmax(y_pred[i],axis=0)\n",
    "    print(idx)"
   ]
  },
  {
   "cell_type": "code",
   "execution_count": 24,
   "id": "10f1e811",
   "metadata": {},
   "outputs": [
    {
     "data": {
      "image/png": "[encoded data removed]",
      "text/plain": [
       "<Figure size 432x288 with 5 Axes>"
      ]
     },
     "metadata": {
      "needs_background": "light"
     },
     "output_type": "display_data"
    }
   ],
   "source": [
    "for i in range(5):\n",
    "    plt.subplot(1,5,i+1)\n",
    "#     print(y_train[i])\n",
    "    plt.imshow(x_test[i])\n",
    "plt.show()"
   ]
  },
  {
   "cell_type": "code",
   "execution_count": null,
   "id": "933b3276",
   "metadata": {},
   "outputs": [],
   "source": []
  },
  {
   "cell_type": "code",
   "execution_count": null,
   "id": "90dc4c5b",
   "metadata": {},
   "outputs": [],
   "source": []
  }
 ],
 "metadata": {
  "kernelspec": {
   "display_name": "Python 3 (ipykernel)",
   "language": "python",
   "name": "python3"
  },
  "language_info": {
   "codemirror_mode": {
    "name": "ipython",
    "version": 3
   },
   "file_extension": ".py",
   "mimetype": "text/x-python",
   "name": "python",
   "nbconvert_exporter": "python",
   "pygments_lexer": "ipython3",
   "version": "3.10.5"
  }
 },
 "nbformat": 4,
 "nbformat_minor": 5
}
